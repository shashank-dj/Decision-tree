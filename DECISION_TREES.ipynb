{
  "nbformat": 4,
  "nbformat_minor": 0,
  "metadata": {
    "colab": {
      "name": "DECISION_TREES.ipynb",
      "provenance": [],
      "authorship_tag": "ABX9TyNQRApTR13ufgUgZ1zqfYOb",
      "include_colab_link": true
    },
    "kernelspec": {
      "name": "python3",
      "display_name": "Python 3"
    },
    "language_info": {
      "name": "python"
    }
  },
  "cells": [
    {
      "cell_type": "markdown",
      "metadata": {
        "id": "view-in-github",
        "colab_type": "text"
      },
      "source": [
        "<a href=\"https://colab.research.google.com/github/shashank-dj/Decision-tree/blob/main/DECISION_TREES.ipynb\" target=\"_parent\"><img src=\"https://colab.research.google.com/assets/colab-badge.svg\" alt=\"Open In Colab\"/></a>"
      ]
    },
    {
      "cell_type": "markdown",
      "metadata": {
        "id": "9a_qMslbiC--"
      },
      "source": [
        "# Decision tree algorithm using scikit learn\n",
        "\n"
      ]
    },
    {
      "cell_type": "code",
      "metadata": {
        "id": "xW36GEsNh5M_"
      },
      "source": [
        "#import the iris dataset\n",
        "from sklearn.datasets import load_iris\n",
        "#import decision tree classifier\n",
        "from sklearn.tree import DecisionTreeClassifier"
      ],
      "execution_count": null,
      "outputs": []
    },
    {
      "cell_type": "code",
      "metadata": {
        "id": "ataFsn51im5I"
      },
      "source": [
        "#load the iris data set\n",
        "iris = load_iris()\n",
        "x = iris.data[:,2:]\n",
        "y = iris.target"
      ],
      "execution_count": null,
      "outputs": []
    },
    {
      "cell_type": "code",
      "metadata": {
        "colab": {
          "base_uri": "https://localhost:8080/"
        },
        "id": "YzxeZAa1i1xp",
        "outputId": "6c88740a-8d49-4012-90ab-d0ed02b4b534"
      },
      "source": [
        "x, y"
      ],
      "execution_count": null,
      "outputs": [
        {
          "output_type": "execute_result",
          "data": {
            "text/plain": [
              "(array([[1.4, 0.2],\n",
              "        [1.4, 0.2],\n",
              "        [1.3, 0.2],\n",
              "        [1.5, 0.2],\n",
              "        [1.4, 0.2],\n",
              "        [1.7, 0.4],\n",
              "        [1.4, 0.3],\n",
              "        [1.5, 0.2],\n",
              "        [1.4, 0.2],\n",
              "        [1.5, 0.1],\n",
              "        [1.5, 0.2],\n",
              "        [1.6, 0.2],\n",
              "        [1.4, 0.1],\n",
              "        [1.1, 0.1],\n",
              "        [1.2, 0.2],\n",
              "        [1.5, 0.4],\n",
              "        [1.3, 0.4],\n",
              "        [1.4, 0.3],\n",
              "        [1.7, 0.3],\n",
              "        [1.5, 0.3],\n",
              "        [1.7, 0.2],\n",
              "        [1.5, 0.4],\n",
              "        [1. , 0.2],\n",
              "        [1.7, 0.5],\n",
              "        [1.9, 0.2],\n",
              "        [1.6, 0.2],\n",
              "        [1.6, 0.4],\n",
              "        [1.5, 0.2],\n",
              "        [1.4, 0.2],\n",
              "        [1.6, 0.2],\n",
              "        [1.6, 0.2],\n",
              "        [1.5, 0.4],\n",
              "        [1.5, 0.1],\n",
              "        [1.4, 0.2],\n",
              "        [1.5, 0.2],\n",
              "        [1.2, 0.2],\n",
              "        [1.3, 0.2],\n",
              "        [1.4, 0.1],\n",
              "        [1.3, 0.2],\n",
              "        [1.5, 0.2],\n",
              "        [1.3, 0.3],\n",
              "        [1.3, 0.3],\n",
              "        [1.3, 0.2],\n",
              "        [1.6, 0.6],\n",
              "        [1.9, 0.4],\n",
              "        [1.4, 0.3],\n",
              "        [1.6, 0.2],\n",
              "        [1.4, 0.2],\n",
              "        [1.5, 0.2],\n",
              "        [1.4, 0.2],\n",
              "        [4.7, 1.4],\n",
              "        [4.5, 1.5],\n",
              "        [4.9, 1.5],\n",
              "        [4. , 1.3],\n",
              "        [4.6, 1.5],\n",
              "        [4.5, 1.3],\n",
              "        [4.7, 1.6],\n",
              "        [3.3, 1. ],\n",
              "        [4.6, 1.3],\n",
              "        [3.9, 1.4],\n",
              "        [3.5, 1. ],\n",
              "        [4.2, 1.5],\n",
              "        [4. , 1. ],\n",
              "        [4.7, 1.4],\n",
              "        [3.6, 1.3],\n",
              "        [4.4, 1.4],\n",
              "        [4.5, 1.5],\n",
              "        [4.1, 1. ],\n",
              "        [4.5, 1.5],\n",
              "        [3.9, 1.1],\n",
              "        [4.8, 1.8],\n",
              "        [4. , 1.3],\n",
              "        [4.9, 1.5],\n",
              "        [4.7, 1.2],\n",
              "        [4.3, 1.3],\n",
              "        [4.4, 1.4],\n",
              "        [4.8, 1.4],\n",
              "        [5. , 1.7],\n",
              "        [4.5, 1.5],\n",
              "        [3.5, 1. ],\n",
              "        [3.8, 1.1],\n",
              "        [3.7, 1. ],\n",
              "        [3.9, 1.2],\n",
              "        [5.1, 1.6],\n",
              "        [4.5, 1.5],\n",
              "        [4.5, 1.6],\n",
              "        [4.7, 1.5],\n",
              "        [4.4, 1.3],\n",
              "        [4.1, 1.3],\n",
              "        [4. , 1.3],\n",
              "        [4.4, 1.2],\n",
              "        [4.6, 1.4],\n",
              "        [4. , 1.2],\n",
              "        [3.3, 1. ],\n",
              "        [4.2, 1.3],\n",
              "        [4.2, 1.2],\n",
              "        [4.2, 1.3],\n",
              "        [4.3, 1.3],\n",
              "        [3. , 1.1],\n",
              "        [4.1, 1.3],\n",
              "        [6. , 2.5],\n",
              "        [5.1, 1.9],\n",
              "        [5.9, 2.1],\n",
              "        [5.6, 1.8],\n",
              "        [5.8, 2.2],\n",
              "        [6.6, 2.1],\n",
              "        [4.5, 1.7],\n",
              "        [6.3, 1.8],\n",
              "        [5.8, 1.8],\n",
              "        [6.1, 2.5],\n",
              "        [5.1, 2. ],\n",
              "        [5.3, 1.9],\n",
              "        [5.5, 2.1],\n",
              "        [5. , 2. ],\n",
              "        [5.1, 2.4],\n",
              "        [5.3, 2.3],\n",
              "        [5.5, 1.8],\n",
              "        [6.7, 2.2],\n",
              "        [6.9, 2.3],\n",
              "        [5. , 1.5],\n",
              "        [5.7, 2.3],\n",
              "        [4.9, 2. ],\n",
              "        [6.7, 2. ],\n",
              "        [4.9, 1.8],\n",
              "        [5.7, 2.1],\n",
              "        [6. , 1.8],\n",
              "        [4.8, 1.8],\n",
              "        [4.9, 1.8],\n",
              "        [5.6, 2.1],\n",
              "        [5.8, 1.6],\n",
              "        [6.1, 1.9],\n",
              "        [6.4, 2. ],\n",
              "        [5.6, 2.2],\n",
              "        [5.1, 1.5],\n",
              "        [5.6, 1.4],\n",
              "        [6.1, 2.3],\n",
              "        [5.6, 2.4],\n",
              "        [5.5, 1.8],\n",
              "        [4.8, 1.8],\n",
              "        [5.4, 2.1],\n",
              "        [5.6, 2.4],\n",
              "        [5.1, 2.3],\n",
              "        [5.1, 1.9],\n",
              "        [5.9, 2.3],\n",
              "        [5.7, 2.5],\n",
              "        [5.2, 2.3],\n",
              "        [5. , 1.9],\n",
              "        [5.2, 2. ],\n",
              "        [5.4, 2.3],\n",
              "        [5.1, 1.8]]),\n",
              " array([0, 0, 0, 0, 0, 0, 0, 0, 0, 0, 0, 0, 0, 0, 0, 0, 0, 0, 0, 0, 0, 0,\n",
              "        0, 0, 0, 0, 0, 0, 0, 0, 0, 0, 0, 0, 0, 0, 0, 0, 0, 0, 0, 0, 0, 0,\n",
              "        0, 0, 0, 0, 0, 0, 1, 1, 1, 1, 1, 1, 1, 1, 1, 1, 1, 1, 1, 1, 1, 1,\n",
              "        1, 1, 1, 1, 1, 1, 1, 1, 1, 1, 1, 1, 1, 1, 1, 1, 1, 1, 1, 1, 1, 1,\n",
              "        1, 1, 1, 1, 1, 1, 1, 1, 1, 1, 1, 1, 2, 2, 2, 2, 2, 2, 2, 2, 2, 2,\n",
              "        2, 2, 2, 2, 2, 2, 2, 2, 2, 2, 2, 2, 2, 2, 2, 2, 2, 2, 2, 2, 2, 2,\n",
              "        2, 2, 2, 2, 2, 2, 2, 2, 2, 2, 2, 2, 2, 2, 2, 2, 2, 2]))"
            ]
          },
          "metadata": {
            "tags": []
          },
          "execution_count": 52
        }
      ]
    },
    {
      "cell_type": "code",
      "metadata": {
        "colab": {
          "base_uri": "https://localhost:8080/"
        },
        "id": "Vnmo5tA8i72m",
        "outputId": "5d06bc91-c6fb-45a1-e3f7-d09e7e56b89e"
      },
      "source": [
        "#create a classifier\n",
        "dt_clf = DecisionTreeClassifier(max_depth=2)\n",
        "#train the model\n",
        "dt_clf.fit(x,y)"
      ],
      "execution_count": null,
      "outputs": [
        {
          "output_type": "execute_result",
          "data": {
            "text/plain": [
              "DecisionTreeClassifier(ccp_alpha=0.0, class_weight=None, criterion='gini',\n",
              "                       max_depth=2, max_features=None, max_leaf_nodes=None,\n",
              "                       min_impurity_decrease=0.0, min_impurity_split=None,\n",
              "                       min_samples_leaf=1, min_samples_split=2,\n",
              "                       min_weight_fraction_leaf=0.0, presort='deprecated',\n",
              "                       random_state=None, splitter='best')"
            ]
          },
          "metadata": {
            "tags": []
          },
          "execution_count": 53
        }
      ]
    },
    {
      "cell_type": "code",
      "metadata": {
        "id": "45Eu8uaKjWDv"
      },
      "source": [
        "from sklearn.tree import export_graphviz"
      ],
      "execution_count": null,
      "outputs": []
    },
    {
      "cell_type": "code",
      "metadata": {
        "id": "yR1UPskZSHUF"
      },
      "source": [
        "from sklearn.tree import export_graphviz\n",
        "export_graphviz(\n",
        "    dt_clf,\n",
        "    out_file='iris_tree.dot',\n",
        "    feature_names=iris.feature_names[2:],\n",
        "    class_names= iris.target_names,\n",
        "    rounded=True,\n",
        "    filled=True\n",
        ")"
      ],
      "execution_count": null,
      "outputs": []
    },
    {
      "cell_type": "code",
      "metadata": {
        "colab": {
          "base_uri": "https://localhost:8080/",
          "height": 41
        },
        "id": "ORsK8bjCSNuW",
        "outputId": "c86b6b81-508e-40d7-e86d-7f9b9c08ba11"
      },
      "source": [
        "from IPython.display import Image\n",
        "Image('iris_tree.png')"
      ],
      "execution_count": null,
      "outputs": [
        {
          "output_type": "execute_result",
          "data": {
            "image/png": "iris_tree.png",
            "text/plain": [
              "<IPython.core.display.Image object>"
            ]
          },
          "metadata": {
            "tags": []
          },
          "execution_count": 70
        }
      ]
    },
    {
      "cell_type": "markdown",
      "metadata": {
        "id": "eBQlZKO19TOi"
      },
      "source": [
        " export_graphviz(dt_clf,\n",
        "                  out_file=image_path(\"iris_tree.dot\"),\n",
        "                  feature_names = iris.feature_names[2:],\n",
        "                  class_names = iris.target_names, rounded = True, filled=True)"
      ]
    },
    {
      "cell_type": "markdown",
      "metadata": {
        "id": "fqP1ECC2862P"
      },
      "source": [
        "estimating class probabilities"
      ]
    },
    {
      "cell_type": "code",
      "metadata": {
        "id": "ESLHzN4pyhWe",
        "colab": {
          "base_uri": "https://localhost:8080/"
        },
        "outputId": "756b80c1-f36d-441b-bd46-4d93870a4c7b"
      },
      "source": [
        "dt_clf.predict_proba([[5,1.5]])"
      ],
      "execution_count": null,
      "outputs": [
        {
          "output_type": "execute_result",
          "data": {
            "text/plain": [
              "array([[0.        , 0.90740741, 0.09259259]])"
            ]
          },
          "metadata": {
            "tags": []
          },
          "execution_count": 55
        }
      ]
    },
    {
      "cell_type": "code",
      "metadata": {
        "colab": {
          "base_uri": "https://localhost:8080/"
        },
        "id": "xr8K8o0Q9WEv",
        "outputId": "ee3e89ed-acc4-4880-d5ab-8039be10a5a5"
      },
      "source": [
        "dt_clf.predict([[5,1.5]])"
      ],
      "execution_count": null,
      "outputs": [
        {
          "output_type": "execute_result",
          "data": {
            "text/plain": [
              "array([1])"
            ]
          },
          "metadata": {
            "tags": []
          },
          "execution_count": 56
        }
      ]
    },
    {
      "cell_type": "markdown",
      "metadata": {
        "id": "dcg0VN7ZDl8w"
      },
      "source": [
        "# Regression model"
      ]
    },
    {
      "cell_type": "code",
      "metadata": {
        "id": "bC4DC4QZ9cVx"
      },
      "source": [
        "from sklearn.tree import DecisionTreeRegressor"
      ],
      "execution_count": null,
      "outputs": []
    },
    {
      "cell_type": "code",
      "metadata": {
        "colab": {
          "base_uri": "https://localhost:8080/"
        },
        "id": "PV9RM-TSDuB8",
        "outputId": "1ee82962-46d4-464d-c147-9ccb68ebee2f"
      },
      "source": [
        "tree_reg = DecisionTreeRegressor()\n",
        "tree_reg.fit(x,y)"
      ],
      "execution_count": null,
      "outputs": [
        {
          "output_type": "execute_result",
          "data": {
            "text/plain": [
              "DecisionTreeRegressor(ccp_alpha=0.0, criterion='mse', max_depth=None,\n",
              "                      max_features=None, max_leaf_nodes=None,\n",
              "                      min_impurity_decrease=0.0, min_impurity_split=None,\n",
              "                      min_samples_leaf=1, min_samples_split=2,\n",
              "                      min_weight_fraction_leaf=0.0, presort='deprecated',\n",
              "                      random_state=None, splitter='best')"
            ]
          },
          "metadata": {
            "tags": []
          },
          "execution_count": 58
        }
      ]
    },
    {
      "cell_type": "code",
      "metadata": {
        "id": "YYUMhsw-SbYI"
      },
      "source": [
        "from sklearn.tree import export_graphviz\n",
        "export_graphviz(\n",
        "    tree_reg,\n",
        "    out_file='iris_tree_reg.dot',\n",
        "    feature_names=iris.feature_names[2:],\n",
        "    class_names= iris.target_names,\n",
        "    rounded=True,\n",
        "    filled=True\n",
        ")"
      ],
      "execution_count": null,
      "outputs": []
    },
    {
      "cell_type": "code",
      "metadata": {
        "id": "3xUEufvzSeSV",
        "colab": {
          "base_uri": "https://localhost:8080/",
          "height": 41
        },
        "outputId": "0125e8bb-67ad-4f93-ca06-fd6fe881e276"
      },
      "source": [
        "Image('iris_tree_reg.png')"
      ],
      "execution_count": null,
      "outputs": [
        {
          "output_type": "execute_result",
          "data": {
            "image/png": "iris_tree_reg.png",
            "text/plain": [
              "<IPython.core.display.Image object>"
            ]
          },
          "metadata": {
            "tags": []
          },
          "execution_count": 72
        }
      ]
    },
    {
      "cell_type": "markdown",
      "metadata": {
        "id": "SIxUIgKvEOA9"
      },
      "source": [
        "# Decision boundaries are visualized"
      ]
    },
    {
      "cell_type": "markdown",
      "metadata": {
        "id": "PhYacpS9EbRs"
      },
      "source": [
        "# 1.Decision boundaries of two classes"
      ]
    },
    {
      "cell_type": "markdown",
      "metadata": {
        "id": "Z1U2uYI0EiRM"
      },
      "source": [
        "Let's generate some custom data points "
      ]
    },
    {
      "cell_type": "code",
      "metadata": {
        "id": "pzvpf0lBE79l"
      },
      "source": [
        "from sklearn.datasets import make_classification,make_moons,make_circles,make_blobs"
      ],
      "execution_count": null,
      "outputs": []
    },
    {
      "cell_type": "code",
      "metadata": {
        "id": "c7GI0ZGtD00O"
      },
      "source": [
        "x, y = make_classification(n_features=2, n_redundant=0, n_informative=2,\n",
        "                           random_state=1, n_clusters_per_class=1)"
      ],
      "execution_count": null,
      "outputs": []
    },
    {
      "cell_type": "code",
      "metadata": {
        "id": "C-4XnQC9F3iz"
      },
      "source": [
        "datasets = [make_moons(noise=0.3, random_state=0),\n",
        "            make_circles(noise=0.3, factor=0.5,random_state=1),\n",
        "            make_blobs()]"
      ],
      "execution_count": null,
      "outputs": []
    },
    {
      "cell_type": "markdown",
      "metadata": {
        "id": "dzZcz22XGuus"
      },
      "source": [
        "Tree based decision boundaries."
      ]
    },
    {
      "cell_type": "markdown",
      "metadata": {
        "id": "nOnG01hjG6HU"
      },
      "source": [
        "consider three models\n",
        "\n",
        "1.   decison tree\n",
        "2.   random forest\n",
        "3.   extra trees\n",
        "\n"
      ]
    },
    {
      "cell_type": "code",
      "metadata": {
        "id": "08PCYFk6HZFD"
      },
      "source": [
        "from sklearn.ensemble import RandomForestClassifier\n",
        "from sklearn.ensemble import ExtraTreesClassifier"
      ],
      "execution_count": null,
      "outputs": []
    },
    {
      "cell_type": "code",
      "metadata": {
        "id": "Dst98qmbGe46"
      },
      "source": [
        "names = [\"Desicion Tree\",\"Random Forest\",\"ExtraTrees\"]\n",
        "#create classifiers\n",
        "treeclassifiers = [DecisionTreeClassifier(max_depth=5),\n",
        "                   RandomForestClassifier(max_depth=5, n_estimators=20, max_features=1),\n",
        "                   ExtraTreesClassifier()]"
      ],
      "execution_count": null,
      "outputs": []
    },
    {
      "cell_type": "markdown",
      "metadata": {
        "id": "hP1vmpYiIJ5t"
      },
      "source": [
        "Plotting the decision surface"
      ]
    },
    {
      "cell_type": "code",
      "metadata": {
        "colab": {
          "base_uri": "https://localhost:8080/",
          "height": 17
        },
        "id": "Y60RFZdVH3PS",
        "outputId": "0d860a50-dc9e-421d-8ecc-98ade75d2da7"
      },
      "source": [
        "import matplotlib.pyplot as plt\n",
        "from matplotlib.colors import ListedColormap, LinearSegmentedColormap\n",
        "from sklearn.preprocessing import StandardScaler\n",
        "from sklearn.model_selection import train_test_split\n",
        "import numpy as np\n",
        "import plotly.offline as py\n",
        "py.init_notebook_mode(connected=True)\n",
        "import plotly.graph_objs as go\n",
        "from plotly import tools"
      ],
      "execution_count": null,
      "outputs": [
        {
          "output_type": "display_data",
          "data": {
            "text/html": [
              "        <script type=\"text/javascript\">\n",
              "        window.PlotlyConfig = {MathJaxConfig: 'local'};\n",
              "        if (window.MathJax) {MathJax.Hub.Config({SVG: {font: \"STIX-Web\"}});}\n",
              "        if (typeof require !== 'undefined') {\n",
              "        require.undef(\"plotly\");\n",
              "        requirejs.config({\n",
              "            paths: {\n",
              "                'plotly': ['https://cdn.plot.ly/plotly-latest.min']\n",
              "            }\n",
              "        });\n",
              "        require(['plotly'], function(Plotly) {\n",
              "            window._Plotly = Plotly;\n",
              "        });\n",
              "        }\n",
              "        </script>\n",
              "        "
            ]
          },
          "metadata": {
            "tags": []
          }
        }
      ]
    },
    {
      "cell_type": "code",
      "metadata": {
        "colab": {
          "base_uri": "https://localhost:8080/",
          "height": 35
        },
        "id": "CAs50N7xIWRW",
        "outputId": "1417f8b3-5f06-4495-9c69-9e2ed802e283"
      },
      "source": [
        "figure = plt.figure(figsize=(20,20))\n"
      ],
      "execution_count": null,
      "outputs": [
        {
          "output_type": "display_data",
          "data": {
            "text/plain": [
              "<Figure size 1440x1440 with 0 Axes>"
            ]
          },
          "metadata": {
            "tags": []
          }
        }
      ]
    },
    {
      "cell_type": "code",
      "metadata": {
        "colab": {
          "base_uri": "https://localhost:8080/",
          "height": 268
        },
        "id": "j3wL6y6vIgxv",
        "outputId": "422f32df-b791-4db1-f1c7-2d66e65747a0"
      },
      "source": [
        "h = 0.02\n",
        "i = 1\n",
        "for ds in datasets:\n",
        "  #preprocess data, split into training and testing data\n",
        "  X , y = ds\n",
        "  X = StandardScaler().fit_transform(X)\n",
        "  X_train, X_test, y_train, y_test = train_test_split(X,y, test_size=0.4)\n",
        "\n",
        "  x_min, x_max = X[:, 0].min() - 0.5, X[:,0].max() + 0.5\n",
        "  y_min, y_max = X[:, 1].min() - 0.5, X[:, 1].max() + 0.5\n",
        "  xx, yy = np.meshgrid(np.arange(x_min,x_max, h),\n",
        "                       np.arange(y_min, y_max, h))\n",
        "  #plotting the dataset\n",
        "  cm = plt.cm.jet\n",
        "  cm_bright = ListedColormap(['#FF0000', '#0000FF'])\n",
        "  ax = plt.subplot(len(datasets), len(treeclassifiers) + 1,i)\n",
        "\n",
        "  #plot the training points\n",
        "  ax.scatter(X_train[:,0],X_train[:,1], c =y_train, cmap= cm_bright, alpha=0.7)\n",
        "  ax.set_xlim(xx.min(), xx.max())\n",
        "  ax.set_ylim(yy.min(), yy.max())\n",
        "  ax.set_xticks(())\n",
        "  ax.set_yticks(())\n",
        "  i += 1\n",
        "\n",
        "  #iterate over classifiers\n",
        "  for name, clf in zip(names, treeclassifiers):\n",
        "    ax = plt.subplot(len(datasets), len(treeclassifiers)+1,i)\n",
        "    clf.fit(X_train,y_train)\n",
        "    score = clf.score(X_test, y_test)\n",
        "\n",
        "            # point in the mesh [x_min, m_max]x[y_min, y_max].\n",
        "    if hasattr(clf, \"decision_function\"):\n",
        "        Z = clf.decision_function(np.c_[xx.ravel(), yy.ravel()])\n",
        "    else:\n",
        "\n",
        "      Z = clf.predict_proba(np.c_[xx.ravel(), yy.ravel()])[:, 1]\n",
        "\n",
        "        # Put the result into a color plot\n",
        "      Z = Z.reshape(xx.shape)\n",
        "      ax.contourf(xx, yy, Z, cmap=plt.cm.jet, alpha=.8)\n",
        "\n",
        "        # Plot also the training points\n",
        "      ax.scatter(X_train[:, 0], X_train[:, 1], c=y_train, cmap=cm_bright, alpha=0.6, linewidths=0.6, edgecolors=\"white\")\n",
        "        # and testing points\n",
        "        #ax.scatter(X_test[:, 0], X_test[:, 1], c=y_test, cmap=cm_bright,\n",
        "                   #alpha=0.6)\n",
        "\n",
        "      ax.set_xlim(xx.min(), xx.max())\n",
        "      ax.set_ylim(yy.min(), yy.max())\n",
        "      ax.set_xticks(())\n",
        "      ax.set_yticks(())\n",
        "      ax.set_title(name)\n",
        "      ax.text(xx.max() - .3, yy.min() + .3, ('%.2f' % score).lstrip('0'),\n",
        "                size=15, horizontalalignment='right')\n",
        "      i += 1\n",
        "\n",
        "figure.subplots_adjust(left=.02, right=.98)\n",
        "plt.show()\n"
      ],
      "execution_count": null,
      "outputs": [
        {
          "output_type": "display_data",
          "data": {
            "image/png": "[encoded data removed]",
            "text/plain": [
              "<Figure size 432x288 with 12 Axes>"
            ]
          },
          "metadata": {
            "tags": []
          }
        }
      ]
    },
    {
      "cell_type": "code",
      "metadata": {
        "id": "BHhJ8GOCMc3l"
      },
      "source": [
        ""
      ],
      "execution_count": null,
      "outputs": []
    }
  ]
}